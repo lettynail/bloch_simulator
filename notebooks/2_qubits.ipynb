{
 "cells": [
  {
   "cell_type": "markdown",
   "id": "98015929",
   "metadata": {},
   "source": [
    "2-Qubit Bloch Simulator — Guided Tutorial\n",
    "\n",
    "This notebook demonstrates how to:\n",
    "\n",
    "Build a simple 2-qubit circuit,\n",
    "\n",
    "Simulate continuous evolution (including non-local gates like CX),\n",
    "\n",
    "Apply discretized Kraus noise on selected qubits,\n",
    "\n",
    "Track reduced states on each qubit (Bloch vectors), and\n",
    "\n",
    "Compute global purity, local von Neumann entropies, and concurrence.\n",
    "\n",
    "Run cells top to bottom."
   ]
  },
  {
   "cell_type": "code",
   "execution_count": null,
   "id": "eb95d1f2",
   "metadata": {},
   "outputs": [],
   "source": [
    "%matplotlib inline\n",
    "import matplotlib.pyplot as plt\n",
    "plt.rcParams[\"figure.dpi\"] = 120\n",
    "\n",
    "from IPython.display import HTML\n",
    "\n",
    "from qiskit.quantum_info import Statevector, DensityMatrix\n",
    "from bloch_simulator import (\n",
    "    H1, I1, CX,\n",
    "    embed2, total_noise_steps,\n",
    "    discreet_depolarizing, discreet_T1, discreet_T2,\n",
    "    continuous_path_2q, entropy_vN, concurrence_2q,\n",
    "    radius, plot_purity, plot_entropy_lists, plot_concurrence,\n",
    "    animate_trajectory\n",
    ")\n"
   ]
  },
  {
   "cell_type": "markdown",
   "id": "3be2b76c",
   "metadata": {},
   "source": [
    "Initialize a 2-qubit basis state\n",
    "\n",
    "We start from |00⟩ and convert it to a DensityMatrix"
   ]
  },
  {
   "cell_type": "code",
   "execution_count": null,
   "id": "b5770d93",
   "metadata": {},
   "outputs": [],
   "source": [
    "ket00 = Statevector([1, 0, 0, 0])\n",
    "rho00 = DensityMatrix(ket00)\n",
    "rho00\n"
   ]
  },
  {
   "cell_type": "markdown",
   "id": "71780bef",
   "metadata": {},
   "source": [
    "Define a minimal entangling sequence\n",
    "\n",
    "We apply (I ⊗ H) → CX → (I ⊗ H) and discretize each gate for continuous evolution."
   ]
  },
  {
   "cell_type": "code",
   "execution_count": null,
   "id": "62a1507c",
   "metadata": {},
   "outputs": [],
   "source": [
    "seq_A = [H1]    # applied on the second qubit via embedding\n",
    "seq_B = [I1]    # identity on the first qubit\n",
    "seq   = embed2(seq_B, seq_A)\n",
    "seq.append(CX)\n",
    "seq += embed2(seq_B, seq_A)\n",
    "\n",
    "steps_per_gate = 90\n",
    "dt = 0.001\n",
    "n_seq = len(seq)\n",
    "n_seq\n"
   ]
  },
  {
   "cell_type": "markdown",
   "id": "4f53a96a",
   "metadata": {},
   "source": [
    "Simulate noiseless evolution and record reduced states\n",
    "\n",
    "The simulator returns Bloch vectors for qubit A and B at each sub-step, plus the global purity.\n",
    "We also keep the full ρ(t) history to compute the concurrence."
   ]
  },
  {
   "cell_type": "code",
   "execution_count": null,
   "id": "d0b16d4c",
   "metadata": {},
   "outputs": [],
   "source": [
    "pts0_A, pts0_B, purity0, rhos0 = continuous_path_2q(\n",
    "    rho00, seq, steps_per_gate=steps_per_gate, return_rhos=True\n",
    ")\n",
    "len(pts0_A), len(pts0_B), len(purity0), len(rhos0)\n"
   ]
  },
  {
   "cell_type": "markdown",
   "id": "dc70a4d7",
   "metadata": {},
   "source": [
    "Add noise on one qubit (example: T1 on qubit A)\n",
    "\n",
    "We lift 1-qubit Kraus operators to 4×4 using the project’s utilities."
   ]
  },
  {
   "cell_type": "code",
   "execution_count": null,
   "id": "06eb189d",
   "metadata": {},
   "outputs": [],
   "source": [
    "t_noise_steps = total_noise_steps(0, n_seq, steps_per_gate=steps_per_gate, n_ops=n_seq)\n",
    "t_noise = t_noise_steps * dt\n",
    "\n",
    "kraus_T1_A = discreet_T1(t_noise, 0.4, total_steps=t_noise_steps)  # on A\n",
    "kraus_I_B  = [[I1, I1]]                                               # identity on B (shape matching)\n",
    "\n",
    "# Lift to 4x4 for each step (same shape as your example)\n",
    "import numpy as np\n",
    "kraus_channels = [\n",
    "    [k for k in (np.kron(a, b) for a, b in zip(kraus_T1_A, kraus_I_B[0]))]\n",
    "]\n",
    "\n",
    "pts_A, pts_B, purity, rhos = continuous_path_2q(\n",
    "    rho00, seq, steps_per_gate=steps_per_gate,\n",
    "    kraus_channels=kraus_channels,\n",
    "    noise_start=0, noise_end=n_seq,\n",
    "    return_rhos=True\n",
    ")\n",
    "len(pts_A), len(pts_B), len(purity), len(rhos)\n"
   ]
  },
  {
   "cell_type": "markdown",
   "id": "e1bbd7cb",
   "metadata": {},
   "source": [
    "Physical metrics\n",
    "\n",
    "Radius on each qubit (noisy vs. noiseless),\n",
    "\n",
    "Global purity over time,\n",
    "\n",
    "Local von Neumann entropies,\n",
    "\n",
    "Wootters concurrence from ρ(t)."
   ]
  },
  {
   "cell_type": "code",
   "execution_count": null,
   "id": "5da8ce20",
   "metadata": {},
   "outputs": [],
   "source": [
    "# Radius vs. time (noiseless and noisy)\n",
    "radius(pts0_A, dt, title=\"A radius without noise\")\n",
    "radius(pts0_B, dt, title=\"B radius without noise\")\n",
    "radius(pts_A,  dt, title=\"A radius with noise\")\n",
    "radius(pts_B,  dt, title=\"B radius with noise\")\n",
    "\n",
    "# Purity\n",
    "plot_purity(purity0, dt, title=\"System purity without noise\")\n",
    "plot_purity(purity,  dt, title=\"System purity with noise\")\n",
    "\n",
    "# Entropies (local)\n",
    "S0_A, S0_B = entropy_vN(pts0_A), entropy_vN(pts0_B)\n",
    "S_A,  S_B  = entropy_vN(pts_A),  entropy_vN(pts_B)\n",
    "plot_entropy_lists(S0_A, dt, title=\"S(ρ_A) without noise\")\n",
    "plot_entropy_lists(S0_B, dt, title=\"S(ρ_B) without noise\")\n",
    "plot_entropy_lists(S_A,  dt, title=\"S(ρ_A) with noise\")\n",
    "plot_entropy_lists(S_B,  dt, title=\"S(ρ_B) with noise\")\n",
    "\n",
    "# Concurrence\n",
    "C0 = [concurrence_2q(r) for r in rhos0]\n",
    "C  = [concurrence_2q(r) for r in rhos]\n",
    "plot_concurrence(C0, dt, title=\"Concurrence C(t) without noise\")\n",
    "plot_concurrence(C,  dt, title=\"Concurrence C(t) with noise\")\n"
   ]
  },
  {
   "cell_type": "markdown",
   "id": "c73f98aa",
   "metadata": {},
   "source": [
    "Inline animations for both qubits\n",
    "\n",
    "We animate each reduced Bloch trajectory (no external writers required)."
   ]
  },
  {
   "cell_type": "code",
   "execution_count": null,
   "id": "e4a3df7d",
   "metadata": {},
   "outputs": [],
   "source": [
    "anim0_A, anim0_B = animate_trajectory(pts0_A, pts0_B, interval_ms=20)\n",
    "anim_A,  anim_B  = animate_trajectory(pts_A,  pts_B,  interval_ms=20)\n",
    "\n",
    "HTML(anim0_A.to_jshtml())\n",
    "HTML(anim0_B.to_jshtml())\n",
    "HTML(anim_A.to_jshtml())\n",
    "HTML(anim_B.to_jshtml())\n"
   ]
  }
 ],
 "metadata": {
  "kernelspec": {
   "display_name": "Python (.venv Bloch)",
   "language": "python",
   "name": "bloch-env"
  },
  "language_info": {
   "codemirror_mode": {
    "name": "ipython",
    "version": 3
   },
   "file_extension": ".py",
   "mimetype": "text/x-python",
   "name": "python",
   "nbconvert_exporter": "python",
   "pygments_lexer": "ipython3",
   "version": "3.13.7"
  }
 },
 "nbformat": 4,
 "nbformat_minor": 5
}
