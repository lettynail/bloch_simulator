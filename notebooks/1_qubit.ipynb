{
 "cells": [
  {
   "cell_type": "markdown",
   "id": "7f6e6255",
   "metadata": {},
   "source": [
    "1-Qubit Bloch Simulator — Guided Tutorial\n",
    "\n",
    "This notebook demonstrates how to:\n",
    "\n",
    "Initialize a single-qubit state,\n",
    "\n",
    "Apply a sequence of unitary gates,\n",
    "\n",
    "Add Kraus noise channels (T1, T2, depolarizing),\n",
    "\n",
    "Visualize Bloch-ball trajectories, and\n",
    "\n",
    "Compare noisy vs. noiseless evolution via radius and fidelity.\n",
    "\n",
    "Run cells top to bottom."
   ]
  },
  {
   "cell_type": "code",
   "execution_count": null,
   "id": "dc785ec3",
   "metadata": {},
   "outputs": [],
   "source": [
    "# Core setup (inline plotting + optional high DPI)\n",
    "\n",
    "%matplotlib inline\n",
    "import matplotlib.pyplot as plt\n",
    "plt.rcParams[\"figure.dpi\"] = 120\n",
    "\n",
    "# For inline animations (no external writer needed)\n",
    "from IPython.display import HTML\n",
    "\n",
    "# Package imports from your project\n",
    "from qiskit.quantum_info import Statevector, DensityMatrix\n",
    "from bloch_simulator.bloch_simulator_1_qbit import (\n",
    "    # fixed gates\n",
    "    H, Y, T, X, S,\n",
    "    # main API\n",
    "    continuous_path, radius, fidelity,\n",
    "    total_noise_steps, discreet_depolarizing, discreet_T1, discreet_T2,\n",
    "    animate_trajectory\n",
    ")"
   ]
  },
  {
   "cell_type": "markdown",
   "id": "7f391c71",
   "metadata": {},
   "source": [
    "Initialize the input state ρ₀\n",
    "\n",
    "We take the computational basis state |0⟩ and convert it to a DensityMatrix."
   ]
  },
  {
   "cell_type": "code",
   "execution_count": null,
   "id": "d06a434f",
   "metadata": {},
   "outputs": [],
   "source": [
    "ket0 = Statevector([1, 0])\n",
    "rho0 = DensityMatrix(ket0)\n",
    "rho0"
   ]
  },
  {
   "cell_type": "markdown",
   "id": "b241d39b",
   "metadata": {},
   "source": [
    "Define a unitary sequence\n",
    "\n",
    "We select a short gate sequence to generate a non-trivial trajectory on the Bloch sphere."
   ]
  },
  {
   "cell_type": "code",
   "execution_count": null,
   "id": "6236794f",
   "metadata": {},
   "outputs": [],
   "source": [
    "seq = [H, Y, T, X, H, S]\n",
    "steps_per_gate = 100\n",
    "dt = 0.001  # sampling time step used for plots\n",
    "n_seq = len(seq)\n",
    "n_seq"
   ]
  },
  {
   "cell_type": "markdown",
   "id": "4dfb667e",
   "metadata": {},
   "source": [
    "Simulate a noiseless continuous evolution\n",
    "\n",
    "We split each unitary into small rotations (axis-angle) and sample the Bloch vector along the path."
   ]
  },
  {
   "cell_type": "code",
   "execution_count": null,
   "id": "a287ed41",
   "metadata": {},
   "outputs": [],
   "source": [
    "pts0 = continuous_path(rho0, seq, steps_per_gate=steps_per_gate)\n",
    "len(pts0)"
   ]
  },
  {
   "cell_type": "markdown",
   "id": "44ba349d",
   "metadata": {},
   "source": [
    "Add Kraus noise during the evolution\n",
    "\n",
    "We define a noise window covering all gates and discretize the T1/T2/Depolarizing channels so that repeated application over the window matches a target noise level."
   ]
  },
  {
   "cell_type": "code",
   "execution_count": null,
   "id": "491b9fff",
   "metadata": {},
   "outputs": [],
   "source": [
    "t_noise_steps = total_noise_steps(0, n_seq, steps_per_gate=steps_per_gate, n_ops=n_seq)\n",
    "\n",
    "kraus_dep = discreet_depolarizing(0.5, total_steps=t_noise_steps)\n",
    "kraus_T1  = discreet_T1(t_total=t_noise_steps*dt, T1=0.4, total_steps=t_noise_steps)\n",
    "kraus_T2  = discreet_T2(t_total=t_noise_steps*dt, T2=0.2, total_steps=t_noise_steps)\n",
    "kraus_channels = [kraus_dep, kraus_T1, kraus_T2]\n",
    "\n",
    "pts = continuous_path(\n",
    "    rho0, seq,\n",
    "    steps_per_gate=steps_per_gate,\n",
    "    kraus_channels=kraus_channels,\n",
    "    noise_start=0, noise_end=n_seq\n",
    ")\n",
    "len(pts)"
   ]
  },
  {
   "cell_type": "markdown",
   "id": "7edd06e0",
   "metadata": {},
   "source": [
    "Diagnostics — Radius and Fidelity\n",
    "\n",
    "Radius shrinks under noise (point moves inside the Bloch ball).\n",
    "\n",
    "Fidelity compares noisy vs. noiseless trajectories at each sampled time."
   ]
  },
  {
   "cell_type": "code",
   "execution_count": null,
   "id": "4e6f6cf7",
   "metadata": {},
   "outputs": [],
   "source": [
    "r0 = radius(pts0, dt)\n",
    "r  = radius(pts,  dt)\n",
    "F  = fidelity(pts0, pts, dt)"
   ]
  },
  {
   "cell_type": "markdown",
   "id": "02a02c98",
   "metadata": {},
   "source": [
    "Inline animation of the trajectories\n",
    "\n",
    "We display both paths (noiseless and noisy) as separate animations.\n",
    "Using to_jshtml() renders them inline without needing ffmpeg or pillow."
   ]
  },
  {
   "cell_type": "code",
   "execution_count": null,
   "id": "48a86c9f",
   "metadata": {},
   "outputs": [],
   "source": [
    "anim0 = animate_trajectory(pts0, interval_ms=15)\n",
    "anim  = animate_trajectory(pts,  interval_ms=15)\n",
    "\n",
    "HTML(anim0.to_jshtml())\n",
    "HTML(anim.to_jshtml())"
   ]
  }
 ],
 "metadata": {
  "kernelspec": {
   "display_name": "Python (.venv Bloch)",
   "language": "python",
   "name": "bloch-env"
  },
  "language_info": {
   "codemirror_mode": {
    "name": "ipython",
    "version": 3
   },
   "file_extension": ".py",
   "mimetype": "text/x-python",
   "name": "python",
   "nbconvert_exporter": "python",
   "pygments_lexer": "ipython3",
   "version": "3.13.7"
  }
 },
 "nbformat": 4,
 "nbformat_minor": 5
}
